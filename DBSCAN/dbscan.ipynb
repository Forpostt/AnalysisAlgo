{
 "cells": [
  {
   "cell_type": "markdown",
   "metadata": {},
   "source": [
    "# Алгоритмы интеллектуальной обработки больших объемов данных\n",
    "## Домашнее задание №2 - Алгоритмы кластеризации\n"
   ]
  },
  {
   "cell_type": "markdown",
   "metadata": {},
   "source": [
    "###### <hr\\>\n",
    "**Общая информация**\n",
    "\n",
    "**Срок сдачи:** 23 октября 2017, 06:00 <br\\>\n",
    "**Штраф за опоздание:** -2 балла после 06:00 23 октября, -4 балла после 06:00 30 октября, -6 баллов после 06:00 6 ноября\n",
    "\n",
    "При отправлении ДЗ указывайте фамилию в названии файла\n",
    "Присылать ДЗ необходимо в виде ссылки на свой github репозиторий в slack @alkhamush Необходимо в slack создать таск в приватный чат:\n",
    "/todo Фамилия Имя ссылка на гитхаб @alkhamush\n",
    "Пример:\n",
    "/todo Ксения Стройкова https://github.com/stroykova/spheremailru/stroykova_hw1.ipynb @alkhamush\n",
    "\n",
    "Используйте данный Ipython Notebook при оформлении домашнего задания.\n",
    "<hr\\>"
   ]
  },
  {
   "cell_type": "markdown",
   "metadata": {},
   "source": [
    "###### Задание 1 (4 балла)\n",
    "Реализовать алгоритм кластеризации, который относится к вашему варианту. Проверить работоспособность алгоритма на \"Iris\". Сравните свой алгоритм кластеризации с алгоритмом из scikit-learn по времени выполнения, использую timeit. Ваша реализация не должна работать сильно дольше, а в идеале должна быть даже немного быстрее.\n",
    "\n",
    "###### Задание 2 (2 балла)\n",
    "Выбрать, имплементировать и использовать критерий качества\n",
    "\n",
    "###### Задание 3 (3балла)\n",
    "Применить алгоритм кластеризации к данным по странам.   \n",
    "Подход следующий: фиксируем год, для каждой страны берём индикаторы по зафиксированному году, кластеризуем по индикаторам.   \n",
    "Разбиение должно быть объяснимым, в противном случае, скорее всего нужно лучше настроить параметры кластеризации.   \n",
    "Данные нужно скачать тут https://data.worldbank.org/data-catalog/world-development-indicators.   \n",
    "Также необходимо показать, какие страны попали в общий кластер.\n",
    "изуализировать результат с помощью T-SNE. Внимание! На полном объеме данных данный алгоритм может работать существенное время.\n",
    "\n",
    "###### Задание 4 (1 балл)\n",
    "Опишите в выводе почему и какие страны попали в общий кластер."
   ]
  },
  {
   "cell_type": "markdown",
   "metadata": {},
   "source": [
    "Основная задача этого задания - реализация одного из алгоритмов кластеризации. Кроме того, мы научимся подбирать параметры алгоритма, визуализируем результат кластеризации и попытаемся проанализировать природу полученных кластеров."
   ]
  },
  {
   "cell_type": "code",
   "execution_count": 1,
   "metadata": {},
   "outputs": [
    {
     "name": "stdout",
     "output_type": "stream",
     "text": [
      "Populating the interactive namespace from numpy and matplotlib\n"
     ]
    }
   ],
   "source": [
    "import pandas as pd\n",
    "import pylab as pl\n",
    "import numpy as np\n",
    "import scipy.spatial as ss\n",
    "import sklearn.cluster as sc\n",
    "import sklearn.manifold as sm\n",
    "import sklearn.datasets as ds\n",
    "import sklearn.metrics as smt\n",
    "\n",
    "import matplotlib.pyplot as plt\n",
    "import mpl_toolkits.basemap as bm\n",
    "\n",
    "%matplotlib inline\n",
    "\n",
    "plt.style.use('ggplot')\n",
    "plt.rcParams['figure.figsize'] = (12,5)\n",
    "\n",
    "# Plotting config\n",
    "%pylab inline"
   ]
  },
  {
   "cell_type": "markdown",
   "metadata": {},
   "source": [
    "## Реализация алгоритма"
   ]
  },
  {
   "cell_type": "markdown",
   "metadata": {},
   "source": [
    "Алгоритм кластеризации, который необходимо реализовать, выбирается на основании Вашего порядкового номера в списке группы."
   ]
  },
  {
   "cell_type": "markdown",
   "metadata": {},
   "source": [
    "1. Авилова Екатерина\n",
    "2. Адаменко Павел\n",
    "3. Акиньщиков Алексей\n",
    "4. Афанасьева Анастасия\n",
    "5. Балес Александр\n",
    "6. Беляев Владимир\n",
    "7. Беспалова Анастасия\n",
    "8. Богомолов Эмиль\n",
    "9. Боднарюк Василий\n",
    "10. Бучкин Александр\n",
    "11. Валинуров Денис\n",
    "12. Волков Глеб\n",
    "13. Голенков Кирилл\n",
    "14. Горбушин Михаил\n",
    "15. Димов Илья\n",
    "16. Докшина Елизавета\n",
    "17. Дорожинский Владислав\n",
    "18. Жирнов Михаил\n",
    "19. Жолковский Евгений\n",
    "20. Зайдель Петр\n",
    "21. Зимнюков Максим\n",
    "22. Иванов Илья\n",
    "23. Кашипов Артем\n",
    "24. Комов Евгений\n",
    "25. Кошман Дима\n",
    "26. Кузнецова Екатерина\n",
    "27. Кулагин Алексей\n",
    "28. Лавреновъ Виталiй\n",
    "29. Лебедь Федор\n",
    "30. Лешков Михаил\n",
    "31. Лозинский Иван\n",
    "32. Лоскутов Антон\n",
    "33. Лютов Владимир\n",
    "34. Мажаров Иван\n",
    "35. Манкевич Павел\n",
    "36. Муравьев Никита\n",
    "37. Находнов Максим\n",
    "38. Оплачко Николай\n",
    "39. Павлов Евгений\n",
    "40. Петряйкин Федор\n",
    "41. Рахматуллин Фарид\n",
    "42. Секретарев Тихон\n",
    "43. Сенюшкин Дмитрий\n",
    "44. Серов Николай\n",
    "45. Смирнов Александр\n",
    "46. Соловьев Павел\n",
    "47. Сомов Иван\n",
    "48. Спиркин Роман\n",
    "49. Терёшина Мария\n",
    "50. Торбунова Екатерина\n",
    "51. Тюгаев Антон\n",
    "52. Фельдман Борис\n",
    "53. Филин Максим\n",
    "54. Фролов Михаил\n",
    "55. Хохлов Олег\n",
    "56. Черемнов Андрей\n",
    "57. Шевцов Антон\n",
    "58. Шурыгин Александр"
   ]
  },
  {
   "cell_type": "code",
   "execution_count": 2,
   "metadata": {
    "collapsed": true
   },
   "outputs": [],
   "source": [
    "N = 35 # put your index here"
   ]
  },
  {
   "cell_type": "code",
   "execution_count": 3,
   "metadata": {},
   "outputs": [
    {
     "name": "stdout",
     "output_type": "stream",
     "text": [
      "Реализуем алгоритм кластеризации 'DBSCAN. (параметры - epsilon, min_pts)'\n"
     ]
    }
   ],
   "source": [
    "algorithms = [\n",
    "    u\"Gaussian Mixture Model с использованием maximum a-posteriori для выбора кластера (параметр - k)\",\n",
    "    u\"Hierarchical clustering с поддержкой single-linkage, complete-linkage, average-linkage (параметры - k, linkage)\",\n",
    "    u\"DBSCAN. (параметры - epsilon, min_pts)\"\n",
    "]\n",
    "\n",
    "my_algorithm = algorithms[N % len(algorithms)]\n",
    "print u\"Реализуем алгоритм кластеризации '%s'\" % my_algorithm"
   ]
  },
  {
   "cell_type": "markdown",
   "metadata": {},
   "source": [
    "Алгоритм кластеризации должен удовлетворять следующему интерфейсу. Конструктор принимает набор параметров, необходимых для работы алгоритма кластеризации. Метод `fit` подсчитывает параметры модели и возвращает `self`. Метод `predict` возвращает вектор с индексами кластеров для поданных в него объектов `x`"
   ]
  },
  {
   "cell_type": "code",
   "execution_count": 4,
   "metadata": {
    "collapsed": true
   },
   "outputs": [],
   "source": [
    "## Задание 1\n",
    "from sklearn.base import BaseEstimator, ClusterMixin\n",
    "from scipy.spatial.distance import cdist\n",
    "\n",
    "class Clustering(BaseEstimator, ClusterMixin):\n",
    "    \"\"\"\n",
    "    Implement clustering algorithm according \n",
    "    \"\"\"\n",
    "    \n",
    "    def __init__(self, eps=0.7, min_pts=7):\n",
    "        \n",
    "        self.eps = eps\n",
    "        self.min_pts = min_pts\n",
    "        \n",
    "        return \n",
    "        \n",
    "    def fit(self, X, y=None):\n",
    "        \"\"\"\n",
    "        Use data matrix x to compute model parameters\n",
    "        \"\"\"\n",
    "        \n",
    "        NV = np.ones(X.shape[0])\n",
    "        self.labels = np.zeros(X.shape[0])\n",
    "        all_dist = cdist(X, X)\n",
    "        self.cluster_count = 0\n",
    "        \n",
    "        while(NV.sum() != 0):\n",
    "            x_i = NV.argmax()\n",
    "            NV[x_i] = 0\n",
    "            nbr = self.neighbours(all_dist, x_i)\n",
    "            if nbr.shape[0] < self.min_pts:\n",
    "                self.labels[x_i] = -1 # noise\n",
    "            else:\n",
    "                self.expand_cluster(X, NV, all_dist, x_i, list(nbr), self.cluster_count)\n",
    "                self.cluster_count += 1\n",
    "                \n",
    "        self.x_len = X.shape[0]\n",
    "        return self\n",
    "    \n",
    "    def neighbours(self, all_dist, x_i):\n",
    "        index = np.arange(all_dist.shape[0])\n",
    "        return index[all_dist[x_i] <= self.eps]\n",
    "    \n",
    "    def expand_cluster(self, X, NV, all_dist, x_i, nbr, c):\n",
    "        self.labels[x_i] = c\n",
    "        for i in nbr:\n",
    "            if NV[i]:\n",
    "                NV[i] = 0\n",
    "                nbr1 = self.neighbours(all_dist, i)\n",
    "                if nbr1.shape[0] >= self.min_pts:\n",
    "                    nbr += list(nbr1)\n",
    "                self.labels[i] = c\n",
    "    \n",
    "    def predict(self, x):\n",
    "        \"\"\"\n",
    "        Using computed model parameters predict cluster\n",
    "        for all objects from x\n",
    "        \"\"\"\n",
    "        return self.labels\n",
    "    \n",
    "    def fit_predict(self, x, y=None):\n",
    "        \n",
    "        self.fit(x, y)\n",
    "        return self.predict(x)"
   ]
  },
  {
   "cell_type": "markdown",
   "metadata": {},
   "source": [
    "Сначала проверим реализованный алгоритм кластеризации на классическом наборе данных [Iris](http://www.wikiwand.com/en/Iris_flower_data_set). Загрузим данные (они включены в библиотеку sklearn) и посмотрим на то, как они выглядят в двух проекциях (для простоты используем 2 класса из 3)."
   ]
  },
  {
   "cell_type": "code",
   "execution_count": 5,
   "metadata": {},
   "outputs": [
    {
     "data": {
      "image/png": "[encoded data removed]",
      "text/plain": [
       "<matplotlib.figure.Figure at 0xc4f87b8>"
      ]
     },
     "metadata": {},
     "output_type": "display_data"
    }
   ],
   "source": [
    "iris = ds.load_iris()\n",
    "x_iris = iris.data[:100]\n",
    "y_iris = iris.target[:100]\n",
    "\n",
    "pl.figure(figsize=(10, 5))\n",
    "\n",
    "pl.subplot(1, 2, 1)\n",
    "pl.scatter(x_iris[:, 0], x_iris[:, 1], c=y_iris, cmap=pl.cm.PuOr, lw=0, s=30)\n",
    "plt.xlabel('Sepal length')\n",
    "plt.ylabel('Sepal width')\n",
    "\n",
    "pl.subplot(1, 2, 2)\n",
    "pl.scatter(x_iris[:, 2], x_iris[:, 3], c=y_iris, cmap=pl.cm.PuOr, lw=0, s=30)\n",
    "plt.xlabel('Petal length')\n",
    "plt.ylabel('Petal width')\n",
    "pl.show()"
   ]
  },
  {
   "cell_type": "markdown",
   "metadata": {},
   "source": [
    "Видно, что классы разделяются, поэтому можно надеяться, что наш алгоритм \"найдет\" кластеры, соответствующие исходным классам. Результат работы реализованного алгоритма кластеризации предлагается сравнить с эталонной кластеризацией. Для этого предлагается изучить метрику ([adjusted rand score](http://scikit-learn.org/stable/modules/generated/sklearn.metrics.adjusted_rand_score.html)). В случае если значение этой метрики отличается от 1, предлагается поработать над улучшением реализации своего алгоритма."
   ]
  },
  {
   "cell_type": "code",
   "execution_count": 6,
   "metadata": {},
   "outputs": [
    {
     "name": "stdout",
     "output_type": "stream",
     "text": [
      "Adjusted Rand index for iris is: 1.00\n"
     ]
    }
   ],
   "source": [
    "pred_iris = Clustering(eps=0.7, min_pts=5).fit_predict(x_iris)\n",
    "print \"Adjusted Rand index for iris is: %.2f\" % smt.adjusted_rand_score(y_iris, pred_iris)"
   ]
  },
  {
   "cell_type": "code",
   "execution_count": 7,
   "metadata": {},
   "outputs": [
    {
     "data": {
      "text/plain": [
       "0.0026211465932233944"
      ]
     },
     "execution_count": 7,
     "metadata": {},
     "output_type": "execute_result"
    }
   ],
   "source": [
    "from timeit import timeit\n",
    "model= sc.DBSCAN(metric = 'euclidean')\n",
    "t = timeit('model.fit_predict(x_iris)', \"from __main__ import model, x_iris\", number=1)\n",
    "t"
   ]
  },
  {
   "cell_type": "code",
   "execution_count": 8,
   "metadata": {},
   "outputs": [
    {
     "data": {
      "text/plain": [
       "0.0029352915032726384"
      ]
     },
     "execution_count": 8,
     "metadata": {},
     "output_type": "execute_result"
    }
   ],
   "source": [
    "model = Clustering()\n",
    "t = timeit('model.fit_predict(x_iris)', \"from __main__ import model, x_iris\", number=1)\n",
    "t"
   ]
  },
  {
   "cell_type": "markdown",
   "metadata": {},
   "source": [
    "Выбрать и реализовать критерий качества, на основании которого будут подбираться параметры модели. Варианты критериев:\n",
    "- Инерция (сумма квадратов расстояний от каждой из точек до ближайшего к этой точке центроида)\n",
    "- Средний диаметр (максимальное расстояние между точками в кластере) или радиус (расстояние от центроида до самой дальней от него точки в кластере)\n",
    "- Sihouette\n",
    "\n",
    "**Критерий качества необходимо выбрать таким образом, чтобы он подходил для реализованного алгоритма**"
   ]
  },
  {
   "cell_type": "code",
   "execution_count": 9,
   "metadata": {
    "collapsed": true
   },
   "outputs": [],
   "source": [
    "## Задание 2\n",
    "## Silhouette\n",
    "def quality(X, y):\n",
    "    \"\"\"\n",
    "    Implement quality criterion of your choice\n",
    "    \"\"\"\n",
    "    clusters = np.unique(y)\n",
    "    if clusters.shape[0] == 1:\n",
    "        return 0\n",
    "    silhouette = np.empty((X.shape[0], 1))\n",
    "    all_dist = cdist(X, X) #distance between all pairs of elements\n",
    "    cluster_dist = np.empty((X.shape[0], clusters.shape[0])) #average distance from elements to clusters \n",
    "    \n",
    "    cluster_dist_list = []\n",
    "    for i in clusters:\n",
    "        mask = (y == i)\n",
    "        cluster_dist_list.append(all_dist[:, mask].mean(axis=1).reshape(-1, 1))\n",
    "    \n",
    "    cluster_dist = np.concatenate(cluster_dist_list, axis=1)\n",
    "    \n",
    "    for i in clusters:\n",
    "        mask = (y == i)\n",
    "        a = cluster_dist[mask][:, clusters == i].reshape(-1, 1)\n",
    "        b = cluster_dist[mask][:, clusters != i].min(axis=1).reshape(-1, 1)\n",
    "        silhouette[mask] = (b - a) / np.concatenate([a, b], axis=1).max(axis=1).reshape(-1, 1)\n",
    "        \n",
    "    return silhouette.mean()"
   ]
  },
  {
   "cell_type": "markdown",
   "metadata": {},
   "source": [
    "Применим критерий для выбора параметров алгоритма. Предлагается изменить следующий код таким образом, чтобы кластеризация вызывалась с верным набором параметров. На графике можно будет увидеть зависимость критерия от параметров алгоритма. Необходимо выбрать оптимальные значения этих параметров."
   ]
  },
  {
   "cell_type": "code",
   "execution_count": 10,
   "metadata": {},
   "outputs": [
    {
     "data": {
      "text/plain": [
       "<matplotlib.text.Text at 0xd37ce10>"
      ]
     },
     "execution_count": 10,
     "metadata": {},
     "output_type": "execute_result"
    },
    {
     "data": {
      "image/png": "[encoded data removed]",
      "text/plain": [
       "<matplotlib.figure.Figure at 0xd3f82b0>"
      ]
     },
     "metadata": {},
     "output_type": "display_data"
    }
   ],
   "source": [
    "min_pts = np.arange(2, 9, 1)\n",
    "eps = np.arange(0.1, 1.1,  0.1)\n",
    "criteria = np.empty((min_pts.shape[0], eps.shape[0]))\n",
    "\n",
    "for i, pts in enumerate(min_pts):\n",
    "    for j, e in enumerate(eps):\n",
    "        cls = Clustering(min_pts=pts, eps=e)\n",
    "        y = cls.fit_predict(x_iris)\n",
    "        criteria[i][j] = quality(x_iris, y)\n",
    "        \n",
    "pl.figure(figsize=(10, 7))\n",
    "for i, pts in enumerate(min_pts):\n",
    "    pl.plot(eps, criteria[i], label='min_pts=' + str(pts))\n",
    "pl.legend()\n",
    "pl.title(\"Silhouette\")\n",
    "pl.xlabel('$Epsilon$')\n",
    "pl.ylabel('$Silhouette$')"
   ]
  },
  {
   "cell_type": "code",
   "execution_count": 11,
   "metadata": {},
   "outputs": [
    {
     "data": {
      "text/html": [
       "<div>\n",
       "<style>\n",
       "    .dataframe thead tr:only-child th {\n",
       "        text-align: right;\n",
       "    }\n",
       "\n",
       "    .dataframe thead th {\n",
       "        text-align: left;\n",
       "    }\n",
       "\n",
       "    .dataframe tbody tr th {\n",
       "        vertical-align: top;\n",
       "    }\n",
       "</style>\n",
       "<table border=\"1\" class=\"dataframe\">\n",
       "  <thead>\n",
       "    <tr style=\"text-align: right;\">\n",
       "      <th></th>\n",
       "      <th>Country Name</th>\n",
       "      <th>Country Code</th>\n",
       "      <th>Indicator Name</th>\n",
       "      <th>Indicator Code</th>\n",
       "      <th>1960</th>\n",
       "      <th>1961</th>\n",
       "      <th>1962</th>\n",
       "      <th>1963</th>\n",
       "      <th>1964</th>\n",
       "      <th>1965</th>\n",
       "      <th>...</th>\n",
       "      <th>2008</th>\n",
       "      <th>2009</th>\n",
       "      <th>2010</th>\n",
       "      <th>2011</th>\n",
       "      <th>2012</th>\n",
       "      <th>2013</th>\n",
       "      <th>2014</th>\n",
       "      <th>2015</th>\n",
       "      <th>2016</th>\n",
       "      <th>Unnamed: 61</th>\n",
       "    </tr>\n",
       "  </thead>\n",
       "  <tbody>\n",
       "    <tr>\n",
       "      <th>0</th>\n",
       "      <td>Arab World</td>\n",
       "      <td>ARB</td>\n",
       "      <td>2005 PPP conversion factor, GDP (LCU per inter...</td>\n",
       "      <td>PA.NUS.PPP.05</td>\n",
       "      <td>NaN</td>\n",
       "      <td>NaN</td>\n",
       "      <td>NaN</td>\n",
       "      <td>NaN</td>\n",
       "      <td>NaN</td>\n",
       "      <td>NaN</td>\n",
       "      <td>...</td>\n",
       "      <td>NaN</td>\n",
       "      <td>NaN</td>\n",
       "      <td>NaN</td>\n",
       "      <td>NaN</td>\n",
       "      <td>NaN</td>\n",
       "      <td>NaN</td>\n",
       "      <td>NaN</td>\n",
       "      <td>NaN</td>\n",
       "      <td>NaN</td>\n",
       "      <td>NaN</td>\n",
       "    </tr>\n",
       "    <tr>\n",
       "      <th>1</th>\n",
       "      <td>Arab World</td>\n",
       "      <td>ARB</td>\n",
       "      <td>2005 PPP conversion factor, private consumptio...</td>\n",
       "      <td>PA.NUS.PRVT.PP.05</td>\n",
       "      <td>NaN</td>\n",
       "      <td>NaN</td>\n",
       "      <td>NaN</td>\n",
       "      <td>NaN</td>\n",
       "      <td>NaN</td>\n",
       "      <td>NaN</td>\n",
       "      <td>...</td>\n",
       "      <td>NaN</td>\n",
       "      <td>NaN</td>\n",
       "      <td>NaN</td>\n",
       "      <td>NaN</td>\n",
       "      <td>NaN</td>\n",
       "      <td>NaN</td>\n",
       "      <td>NaN</td>\n",
       "      <td>NaN</td>\n",
       "      <td>NaN</td>\n",
       "      <td>NaN</td>\n",
       "    </tr>\n",
       "    <tr>\n",
       "      <th>2</th>\n",
       "      <td>Arab World</td>\n",
       "      <td>ARB</td>\n",
       "      <td>Access to clean fuels and technologies for coo...</td>\n",
       "      <td>EG.CFT.ACCS.ZS</td>\n",
       "      <td>NaN</td>\n",
       "      <td>NaN</td>\n",
       "      <td>NaN</td>\n",
       "      <td>NaN</td>\n",
       "      <td>NaN</td>\n",
       "      <td>NaN</td>\n",
       "      <td>...</td>\n",
       "      <td>82.831932</td>\n",
       "      <td>83.474617</td>\n",
       "      <td>84.006076</td>\n",
       "      <td>84.416148</td>\n",
       "      <td>84.734574</td>\n",
       "      <td>85.003645</td>\n",
       "      <td>85.244971</td>\n",
       "      <td>NaN</td>\n",
       "      <td>NaN</td>\n",
       "      <td>NaN</td>\n",
       "    </tr>\n",
       "    <tr>\n",
       "      <th>3</th>\n",
       "      <td>Arab World</td>\n",
       "      <td>ARB</td>\n",
       "      <td>Access to electricity (% of population)</td>\n",
       "      <td>EG.ELC.ACCS.ZS</td>\n",
       "      <td>NaN</td>\n",
       "      <td>NaN</td>\n",
       "      <td>NaN</td>\n",
       "      <td>NaN</td>\n",
       "      <td>NaN</td>\n",
       "      <td>NaN</td>\n",
       "      <td>...</td>\n",
       "      <td>85.042248</td>\n",
       "      <td>84.655338</td>\n",
       "      <td>85.955345</td>\n",
       "      <td>86.392313</td>\n",
       "      <td>86.846966</td>\n",
       "      <td>87.604961</td>\n",
       "      <td>88.039125</td>\n",
       "      <td>NaN</td>\n",
       "      <td>NaN</td>\n",
       "      <td>NaN</td>\n",
       "    </tr>\n",
       "    <tr>\n",
       "      <th>4</th>\n",
       "      <td>Arab World</td>\n",
       "      <td>ARB</td>\n",
       "      <td>Access to electricity, rural (% of rural popul...</td>\n",
       "      <td>EG.ELC.ACCS.RU.ZS</td>\n",
       "      <td>NaN</td>\n",
       "      <td>NaN</td>\n",
       "      <td>NaN</td>\n",
       "      <td>NaN</td>\n",
       "      <td>NaN</td>\n",
       "      <td>NaN</td>\n",
       "      <td>...</td>\n",
       "      <td>72.292323</td>\n",
       "      <td>71.765345</td>\n",
       "      <td>73.734266</td>\n",
       "      <td>74.500717</td>\n",
       "      <td>75.218497</td>\n",
       "      <td>76.712250</td>\n",
       "      <td>77.407269</td>\n",
       "      <td>NaN</td>\n",
       "      <td>NaN</td>\n",
       "      <td>NaN</td>\n",
       "    </tr>\n",
       "  </tbody>\n",
       "</table>\n",
       "<p>5 rows × 62 columns</p>\n",
       "</div>"
      ],
      "text/plain": [
       "  Country Name Country Code  \\\n",
       "0   Arab World          ARB   \n",
       "1   Arab World          ARB   \n",
       "2   Arab World          ARB   \n",
       "3   Arab World          ARB   \n",
       "4   Arab World          ARB   \n",
       "\n",
       "                                      Indicator Name     Indicator Code  1960  \\\n",
       "0  2005 PPP conversion factor, GDP (LCU per inter...      PA.NUS.PPP.05   NaN   \n",
       "1  2005 PPP conversion factor, private consumptio...  PA.NUS.PRVT.PP.05   NaN   \n",
       "2  Access to clean fuels and technologies for coo...     EG.CFT.ACCS.ZS   NaN   \n",
       "3            Access to electricity (% of population)     EG.ELC.ACCS.ZS   NaN   \n",
       "4  Access to electricity, rural (% of rural popul...  EG.ELC.ACCS.RU.ZS   NaN   \n",
       "\n",
       "   1961  1962  1963  1964  1965     ...            2008       2009       2010  \\\n",
       "0   NaN   NaN   NaN   NaN   NaN     ...             NaN        NaN        NaN   \n",
       "1   NaN   NaN   NaN   NaN   NaN     ...             NaN        NaN        NaN   \n",
       "2   NaN   NaN   NaN   NaN   NaN     ...       82.831932  83.474617  84.006076   \n",
       "3   NaN   NaN   NaN   NaN   NaN     ...       85.042248  84.655338  85.955345   \n",
       "4   NaN   NaN   NaN   NaN   NaN     ...       72.292323  71.765345  73.734266   \n",
       "\n",
       "        2011       2012       2013       2014  2015  2016  Unnamed: 61  \n",
       "0        NaN        NaN        NaN        NaN   NaN   NaN          NaN  \n",
       "1        NaN        NaN        NaN        NaN   NaN   NaN          NaN  \n",
       "2  84.416148  84.734574  85.003645  85.244971   NaN   NaN          NaN  \n",
       "3  86.392313  86.846966  87.604961  88.039125   NaN   NaN          NaN  \n",
       "4  74.500717  75.218497  76.712250  77.407269   NaN   NaN          NaN  \n",
       "\n",
       "[5 rows x 62 columns]"
      ]
     },
     "execution_count": 11,
     "metadata": {},
     "output_type": "execute_result"
    }
   ],
   "source": [
    "## Задание 3\n",
    "\n",
    "data_ = pd.read_csv('WDIDATA.csv')\n",
    "data_.head()"
   ]
  },
  {
   "cell_type": "code",
   "execution_count": 12,
   "metadata": {},
   "outputs": [
    {
     "data": {
      "text/html": [
       "<div>\n",
       "<style>\n",
       "    .dataframe thead tr:only-child th {\n",
       "        text-align: right;\n",
       "    }\n",
       "\n",
       "    .dataframe thead th {\n",
       "        text-align: left;\n",
       "    }\n",
       "\n",
       "    .dataframe tbody tr th {\n",
       "        vertical-align: top;\n",
       "    }\n",
       "</style>\n",
       "<table border=\"1\" class=\"dataframe\">\n",
       "  <thead>\n",
       "    <tr style=\"text-align: right;\">\n",
       "      <th>Indicator Code</th>\n",
       "      <th>AG.CON.FERT.PT.ZS</th>\n",
       "      <th>AG.CON.FERT.ZS</th>\n",
       "      <th>AG.LND.AGRI.K2</th>\n",
       "      <th>AG.LND.AGRI.ZS</th>\n",
       "      <th>AG.LND.ARBL.HA</th>\n",
       "      <th>AG.LND.ARBL.HA.PC</th>\n",
       "      <th>AG.LND.ARBL.ZS</th>\n",
       "      <th>AG.LND.CREL.HA</th>\n",
       "      <th>AG.LND.CROP.ZS</th>\n",
       "      <th>AG.LND.EL5M.RU.K2</th>\n",
       "      <th>...</th>\n",
       "      <th>per_sa_allsa.cov_q4_tot</th>\n",
       "      <th>per_sa_allsa.cov_q5_tot</th>\n",
       "      <th>per_si_allsi.adq_pop_tot</th>\n",
       "      <th>per_si_allsi.ben_q1_tot</th>\n",
       "      <th>per_si_allsi.cov_pop_tot</th>\n",
       "      <th>per_si_allsi.cov_q1_tot</th>\n",
       "      <th>per_si_allsi.cov_q2_tot</th>\n",
       "      <th>per_si_allsi.cov_q3_tot</th>\n",
       "      <th>per_si_allsi.cov_q4_tot</th>\n",
       "      <th>per_si_allsi.cov_q5_tot</th>\n",
       "    </tr>\n",
       "    <tr>\n",
       "      <th>Country Name</th>\n",
       "      <th></th>\n",
       "      <th></th>\n",
       "      <th></th>\n",
       "      <th></th>\n",
       "      <th></th>\n",
       "      <th></th>\n",
       "      <th></th>\n",
       "      <th></th>\n",
       "      <th></th>\n",
       "      <th></th>\n",
       "      <th></th>\n",
       "      <th></th>\n",
       "      <th></th>\n",
       "      <th></th>\n",
       "      <th></th>\n",
       "      <th></th>\n",
       "      <th></th>\n",
       "      <th></th>\n",
       "      <th></th>\n",
       "      <th></th>\n",
       "      <th></th>\n",
       "    </tr>\n",
       "  </thead>\n",
       "  <tbody>\n",
       "    <tr>\n",
       "      <th>Afghanistan</th>\n",
       "      <td>275.819331</td>\n",
       "      <td>4.254972</td>\n",
       "      <td>379100.0</td>\n",
       "      <td>58.067580</td>\n",
       "      <td>7793000.0</td>\n",
       "      <td>0.270561</td>\n",
       "      <td>11.936709</td>\n",
       "      <td>2.962000e+06</td>\n",
       "      <td>0.180743</td>\n",
       "      <td>48875.357378</td>\n",
       "      <td>...</td>\n",
       "      <td>30.65336</td>\n",
       "      <td>20.729016</td>\n",
       "      <td>33.35166</td>\n",
       "      <td>4.325573</td>\n",
       "      <td>20.700545</td>\n",
       "      <td>15.468545</td>\n",
       "      <td>18.7479</td>\n",
       "      <td>20.815995</td>\n",
       "      <td>23.334244</td>\n",
       "      <td>25.130352</td>\n",
       "    </tr>\n",
       "    <tr>\n",
       "      <th>Albania</th>\n",
       "      <td>306.894208</td>\n",
       "      <td>97.322684</td>\n",
       "      <td>12013.0</td>\n",
       "      <td>43.843066</td>\n",
       "      <td>626000.0</td>\n",
       "      <td>0.214897</td>\n",
       "      <td>22.846715</td>\n",
       "      <td>1.457000e+05</td>\n",
       "      <td>2.554745</td>\n",
       "      <td>1294.595459</td>\n",
       "      <td>...</td>\n",
       "      <td>30.65336</td>\n",
       "      <td>20.729016</td>\n",
       "      <td>33.35166</td>\n",
       "      <td>4.325573</td>\n",
       "      <td>20.700545</td>\n",
       "      <td>15.468545</td>\n",
       "      <td>18.7479</td>\n",
       "      <td>20.815995</td>\n",
       "      <td>23.334244</td>\n",
       "      <td>25.130352</td>\n",
       "    </tr>\n",
       "    <tr>\n",
       "      <th>Algeria</th>\n",
       "      <td>457.433490</td>\n",
       "      <td>19.481472</td>\n",
       "      <td>413740.0</td>\n",
       "      <td>17.371334</td>\n",
       "      <td>7502000.0</td>\n",
       "      <td>0.207710</td>\n",
       "      <td>3.149798</td>\n",
       "      <td>2.856586e+06</td>\n",
       "      <td>0.381654</td>\n",
       "      <td>378.759186</td>\n",
       "      <td>...</td>\n",
       "      <td>30.65336</td>\n",
       "      <td>20.729016</td>\n",
       "      <td>33.35166</td>\n",
       "      <td>4.325573</td>\n",
       "      <td>20.700545</td>\n",
       "      <td>15.468545</td>\n",
       "      <td>18.7479</td>\n",
       "      <td>20.815995</td>\n",
       "      <td>23.334244</td>\n",
       "      <td>25.130352</td>\n",
       "    </tr>\n",
       "    <tr>\n",
       "      <th>American Samoa</th>\n",
       "      <td>306.894208</td>\n",
       "      <td>190.633171</td>\n",
       "      <td>49.0</td>\n",
       "      <td>24.500000</td>\n",
       "      <td>3000.0</td>\n",
       "      <td>0.053921</td>\n",
       "      <td>15.000000</td>\n",
       "      <td>3.227095e+07</td>\n",
       "      <td>9.500000</td>\n",
       "      <td>4.429730</td>\n",
       "      <td>...</td>\n",
       "      <td>30.65336</td>\n",
       "      <td>20.729016</td>\n",
       "      <td>33.35166</td>\n",
       "      <td>4.325573</td>\n",
       "      <td>20.700545</td>\n",
       "      <td>15.468545</td>\n",
       "      <td>18.7479</td>\n",
       "      <td>20.815995</td>\n",
       "      <td>23.334244</td>\n",
       "      <td>25.130352</td>\n",
       "    </tr>\n",
       "    <tr>\n",
       "      <th>Andorra</th>\n",
       "      <td>306.894208</td>\n",
       "      <td>190.633171</td>\n",
       "      <td>201.0</td>\n",
       "      <td>42.765957</td>\n",
       "      <td>2500.0</td>\n",
       "      <td>0.029604</td>\n",
       "      <td>5.319149</td>\n",
       "      <td>3.227095e+07</td>\n",
       "      <td>3.968023</td>\n",
       "      <td>48875.357378</td>\n",
       "      <td>...</td>\n",
       "      <td>30.65336</td>\n",
       "      <td>20.729016</td>\n",
       "      <td>33.35166</td>\n",
       "      <td>4.325573</td>\n",
       "      <td>20.700545</td>\n",
       "      <td>15.468545</td>\n",
       "      <td>18.7479</td>\n",
       "      <td>20.815995</td>\n",
       "      <td>23.334244</td>\n",
       "      <td>25.130352</td>\n",
       "    </tr>\n",
       "  </tbody>\n",
       "</table>\n",
       "<p>5 rows × 1462 columns</p>\n",
       "</div>"
      ],
      "text/plain": [
       "Indicator Code  AG.CON.FERT.PT.ZS  AG.CON.FERT.ZS  AG.LND.AGRI.K2  \\\n",
       "Country Name                                                        \n",
       "Afghanistan            275.819331        4.254972        379100.0   \n",
       "Albania                306.894208       97.322684         12013.0   \n",
       "Algeria                457.433490       19.481472        413740.0   \n",
       "American Samoa         306.894208      190.633171            49.0   \n",
       "Andorra                306.894208      190.633171           201.0   \n",
       "\n",
       "Indicator Code  AG.LND.AGRI.ZS  AG.LND.ARBL.HA  AG.LND.ARBL.HA.PC  \\\n",
       "Country Name                                                        \n",
       "Afghanistan          58.067580       7793000.0           0.270561   \n",
       "Albania              43.843066        626000.0           0.214897   \n",
       "Algeria              17.371334       7502000.0           0.207710   \n",
       "American Samoa       24.500000          3000.0           0.053921   \n",
       "Andorra              42.765957          2500.0           0.029604   \n",
       "\n",
       "Indicator Code  AG.LND.ARBL.ZS  AG.LND.CREL.HA  AG.LND.CROP.ZS  \\\n",
       "Country Name                                                     \n",
       "Afghanistan          11.936709    2.962000e+06        0.180743   \n",
       "Albania              22.846715    1.457000e+05        2.554745   \n",
       "Algeria               3.149798    2.856586e+06        0.381654   \n",
       "American Samoa       15.000000    3.227095e+07        9.500000   \n",
       "Andorra               5.319149    3.227095e+07        3.968023   \n",
       "\n",
       "Indicator Code  AG.LND.EL5M.RU.K2           ...             \\\n",
       "Country Name                                ...              \n",
       "Afghanistan          48875.357378           ...              \n",
       "Albania               1294.595459           ...              \n",
       "Algeria                378.759186           ...              \n",
       "American Samoa           4.429730           ...              \n",
       "Andorra              48875.357378           ...              \n",
       "\n",
       "Indicator Code  per_sa_allsa.cov_q4_tot  per_sa_allsa.cov_q5_tot  \\\n",
       "Country Name                                                       \n",
       "Afghanistan                    30.65336                20.729016   \n",
       "Albania                        30.65336                20.729016   \n",
       "Algeria                        30.65336                20.729016   \n",
       "American Samoa                 30.65336                20.729016   \n",
       "Andorra                        30.65336                20.729016   \n",
       "\n",
       "Indicator Code  per_si_allsi.adq_pop_tot  per_si_allsi.ben_q1_tot  \\\n",
       "Country Name                                                        \n",
       "Afghanistan                     33.35166                 4.325573   \n",
       "Albania                         33.35166                 4.325573   \n",
       "Algeria                         33.35166                 4.325573   \n",
       "American Samoa                  33.35166                 4.325573   \n",
       "Andorra                         33.35166                 4.325573   \n",
       "\n",
       "Indicator Code  per_si_allsi.cov_pop_tot  per_si_allsi.cov_q1_tot  \\\n",
       "Country Name                                                        \n",
       "Afghanistan                    20.700545                15.468545   \n",
       "Albania                        20.700545                15.468545   \n",
       "Algeria                        20.700545                15.468545   \n",
       "American Samoa                 20.700545                15.468545   \n",
       "Andorra                        20.700545                15.468545   \n",
       "\n",
       "Indicator Code  per_si_allsi.cov_q2_tot  per_si_allsi.cov_q3_tot  \\\n",
       "Country Name                                                       \n",
       "Afghanistan                     18.7479                20.815995   \n",
       "Albania                         18.7479                20.815995   \n",
       "Algeria                         18.7479                20.815995   \n",
       "American Samoa                  18.7479                20.815995   \n",
       "Andorra                         18.7479                20.815995   \n",
       "\n",
       "Indicator Code  per_si_allsi.cov_q4_tot  per_si_allsi.cov_q5_tot  \n",
       "Country Name                                                      \n",
       "Afghanistan                   23.334244                25.130352  \n",
       "Albania                       23.334244                25.130352  \n",
       "Algeria                       23.334244                25.130352  \n",
       "American Samoa                23.334244                25.130352  \n",
       "Andorra                       23.334244                25.130352  \n",
       "\n",
       "[5 rows x 1462 columns]"
      ]
     },
     "execution_count": 12,
     "metadata": {},
     "output_type": "execute_result"
    }
   ],
   "source": [
    "year = str(pd.isnull(data_).sum(axis=0)[4:].argmin()) #2010\n",
    "new_data = data_[['Country Name', 'Indicator Code', year]]\n",
    "new_data = new_data.pivot(index='Country Name', columns='Indicator Code', values=year)\n",
    "new_data = new_data.fillna(new_data.mean())\n",
    "new_data = new_data.dropna(axis=1, how='all')\n",
    "new_data.to_csv('WDI_2010.scv')\n",
    "new_data.head()"
   ]
  },
  {
   "cell_type": "markdown",
   "metadata": {},
   "source": [
    "Обработка таблицы"
   ]
  },
  {
   "cell_type": "code",
   "execution_count": 13,
   "metadata": {},
   "outputs": [
    {
     "data": {
      "text/html": [
       "<div>\n",
       "<style>\n",
       "    .dataframe thead tr:only-child th {\n",
       "        text-align: right;\n",
       "    }\n",
       "\n",
       "    .dataframe thead th {\n",
       "        text-align: left;\n",
       "    }\n",
       "\n",
       "    .dataframe tbody tr th {\n",
       "        vertical-align: top;\n",
       "    }\n",
       "</style>\n",
       "<table border=\"1\" class=\"dataframe\">\n",
       "  <thead>\n",
       "    <tr style=\"text-align: right;\">\n",
       "      <th></th>\n",
       "      <th>Country Name</th>\n",
       "      <th>AG.CON.FERT.PT.ZS</th>\n",
       "      <th>AG.CON.FERT.ZS</th>\n",
       "      <th>AG.LND.AGRI.K2</th>\n",
       "      <th>AG.LND.AGRI.ZS</th>\n",
       "      <th>AG.LND.ARBL.HA</th>\n",
       "      <th>AG.LND.ARBL.HA.PC</th>\n",
       "      <th>AG.LND.ARBL.ZS</th>\n",
       "      <th>AG.LND.CREL.HA</th>\n",
       "      <th>AG.LND.CROP.ZS</th>\n",
       "      <th>...</th>\n",
       "      <th>per_sa_allsa.cov_q4_tot</th>\n",
       "      <th>per_sa_allsa.cov_q5_tot</th>\n",
       "      <th>per_si_allsi.adq_pop_tot</th>\n",
       "      <th>per_si_allsi.ben_q1_tot</th>\n",
       "      <th>per_si_allsi.cov_pop_tot</th>\n",
       "      <th>per_si_allsi.cov_q1_tot</th>\n",
       "      <th>per_si_allsi.cov_q2_tot</th>\n",
       "      <th>per_si_allsi.cov_q3_tot</th>\n",
       "      <th>per_si_allsi.cov_q4_tot</th>\n",
       "      <th>per_si_allsi.cov_q5_tot</th>\n",
       "    </tr>\n",
       "  </thead>\n",
       "  <tbody>\n",
       "    <tr>\n",
       "      <th>0</th>\n",
       "      <td>Afghanistan</td>\n",
       "      <td>275.819331</td>\n",
       "      <td>4.254972</td>\n",
       "      <td>379100.0</td>\n",
       "      <td>58.067580</td>\n",
       "      <td>7793000.0</td>\n",
       "      <td>0.270561</td>\n",
       "      <td>11.936709</td>\n",
       "      <td>2.962000e+06</td>\n",
       "      <td>0.180743</td>\n",
       "      <td>...</td>\n",
       "      <td>30.65336</td>\n",
       "      <td>20.729016</td>\n",
       "      <td>33.35166</td>\n",
       "      <td>4.325573</td>\n",
       "      <td>20.700545</td>\n",
       "      <td>15.468545</td>\n",
       "      <td>18.7479</td>\n",
       "      <td>20.815995</td>\n",
       "      <td>23.334244</td>\n",
       "      <td>25.130352</td>\n",
       "    </tr>\n",
       "    <tr>\n",
       "      <th>1</th>\n",
       "      <td>Albania</td>\n",
       "      <td>306.894208</td>\n",
       "      <td>97.322684</td>\n",
       "      <td>12013.0</td>\n",
       "      <td>43.843066</td>\n",
       "      <td>626000.0</td>\n",
       "      <td>0.214897</td>\n",
       "      <td>22.846715</td>\n",
       "      <td>1.457000e+05</td>\n",
       "      <td>2.554745</td>\n",
       "      <td>...</td>\n",
       "      <td>30.65336</td>\n",
       "      <td>20.729016</td>\n",
       "      <td>33.35166</td>\n",
       "      <td>4.325573</td>\n",
       "      <td>20.700545</td>\n",
       "      <td>15.468545</td>\n",
       "      <td>18.7479</td>\n",
       "      <td>20.815995</td>\n",
       "      <td>23.334244</td>\n",
       "      <td>25.130352</td>\n",
       "    </tr>\n",
       "    <tr>\n",
       "      <th>2</th>\n",
       "      <td>Algeria</td>\n",
       "      <td>457.433490</td>\n",
       "      <td>19.481472</td>\n",
       "      <td>413740.0</td>\n",
       "      <td>17.371334</td>\n",
       "      <td>7502000.0</td>\n",
       "      <td>0.207710</td>\n",
       "      <td>3.149798</td>\n",
       "      <td>2.856586e+06</td>\n",
       "      <td>0.381654</td>\n",
       "      <td>...</td>\n",
       "      <td>30.65336</td>\n",
       "      <td>20.729016</td>\n",
       "      <td>33.35166</td>\n",
       "      <td>4.325573</td>\n",
       "      <td>20.700545</td>\n",
       "      <td>15.468545</td>\n",
       "      <td>18.7479</td>\n",
       "      <td>20.815995</td>\n",
       "      <td>23.334244</td>\n",
       "      <td>25.130352</td>\n",
       "    </tr>\n",
       "    <tr>\n",
       "      <th>3</th>\n",
       "      <td>American Samoa</td>\n",
       "      <td>306.894208</td>\n",
       "      <td>190.633171</td>\n",
       "      <td>49.0</td>\n",
       "      <td>24.500000</td>\n",
       "      <td>3000.0</td>\n",
       "      <td>0.053921</td>\n",
       "      <td>15.000000</td>\n",
       "      <td>3.227095e+07</td>\n",
       "      <td>9.500000</td>\n",
       "      <td>...</td>\n",
       "      <td>30.65336</td>\n",
       "      <td>20.729016</td>\n",
       "      <td>33.35166</td>\n",
       "      <td>4.325573</td>\n",
       "      <td>20.700545</td>\n",
       "      <td>15.468545</td>\n",
       "      <td>18.7479</td>\n",
       "      <td>20.815995</td>\n",
       "      <td>23.334244</td>\n",
       "      <td>25.130352</td>\n",
       "    </tr>\n",
       "    <tr>\n",
       "      <th>4</th>\n",
       "      <td>Andorra</td>\n",
       "      <td>306.894208</td>\n",
       "      <td>190.633171</td>\n",
       "      <td>201.0</td>\n",
       "      <td>42.765957</td>\n",
       "      <td>2500.0</td>\n",
       "      <td>0.029604</td>\n",
       "      <td>5.319149</td>\n",
       "      <td>3.227095e+07</td>\n",
       "      <td>3.968023</td>\n",
       "      <td>...</td>\n",
       "      <td>30.65336</td>\n",
       "      <td>20.729016</td>\n",
       "      <td>33.35166</td>\n",
       "      <td>4.325573</td>\n",
       "      <td>20.700545</td>\n",
       "      <td>15.468545</td>\n",
       "      <td>18.7479</td>\n",
       "      <td>20.815995</td>\n",
       "      <td>23.334244</td>\n",
       "      <td>25.130352</td>\n",
       "    </tr>\n",
       "  </tbody>\n",
       "</table>\n",
       "<p>5 rows × 1463 columns</p>\n",
       "</div>"
      ],
      "text/plain": [
       "     Country Name  AG.CON.FERT.PT.ZS  AG.CON.FERT.ZS  AG.LND.AGRI.K2  \\\n",
       "0     Afghanistan         275.819331        4.254972        379100.0   \n",
       "1         Albania         306.894208       97.322684         12013.0   \n",
       "2         Algeria         457.433490       19.481472        413740.0   \n",
       "3  American Samoa         306.894208      190.633171            49.0   \n",
       "4         Andorra         306.894208      190.633171           201.0   \n",
       "\n",
       "   AG.LND.AGRI.ZS  AG.LND.ARBL.HA  AG.LND.ARBL.HA.PC  AG.LND.ARBL.ZS  \\\n",
       "0       58.067580       7793000.0           0.270561       11.936709   \n",
       "1       43.843066        626000.0           0.214897       22.846715   \n",
       "2       17.371334       7502000.0           0.207710        3.149798   \n",
       "3       24.500000          3000.0           0.053921       15.000000   \n",
       "4       42.765957          2500.0           0.029604        5.319149   \n",
       "\n",
       "   AG.LND.CREL.HA  AG.LND.CROP.ZS           ...             \\\n",
       "0    2.962000e+06        0.180743           ...              \n",
       "1    1.457000e+05        2.554745           ...              \n",
       "2    2.856586e+06        0.381654           ...              \n",
       "3    3.227095e+07        9.500000           ...              \n",
       "4    3.227095e+07        3.968023           ...              \n",
       "\n",
       "   per_sa_allsa.cov_q4_tot  per_sa_allsa.cov_q5_tot  per_si_allsi.adq_pop_tot  \\\n",
       "0                 30.65336                20.729016                  33.35166   \n",
       "1                 30.65336                20.729016                  33.35166   \n",
       "2                 30.65336                20.729016                  33.35166   \n",
       "3                 30.65336                20.729016                  33.35166   \n",
       "4                 30.65336                20.729016                  33.35166   \n",
       "\n",
       "   per_si_allsi.ben_q1_tot  per_si_allsi.cov_pop_tot  per_si_allsi.cov_q1_tot  \\\n",
       "0                 4.325573                 20.700545                15.468545   \n",
       "1                 4.325573                 20.700545                15.468545   \n",
       "2                 4.325573                 20.700545                15.468545   \n",
       "3                 4.325573                 20.700545                15.468545   \n",
       "4                 4.325573                 20.700545                15.468545   \n",
       "\n",
       "   per_si_allsi.cov_q2_tot  per_si_allsi.cov_q3_tot  per_si_allsi.cov_q4_tot  \\\n",
       "0                  18.7479                20.815995                23.334244   \n",
       "1                  18.7479                20.815995                23.334244   \n",
       "2                  18.7479                20.815995                23.334244   \n",
       "3                  18.7479                20.815995                23.334244   \n",
       "4                  18.7479                20.815995                23.334244   \n",
       "\n",
       "   per_si_allsi.cov_q5_tot  \n",
       "0                25.130352  \n",
       "1                25.130352  \n",
       "2                25.130352  \n",
       "3                25.130352  \n",
       "4                25.130352  \n",
       "\n",
       "[5 rows x 1463 columns]"
      ]
     },
     "execution_count": 13,
     "metadata": {},
     "output_type": "execute_result"
    }
   ],
   "source": [
    "data = pd.read_csv('WDI_2010.scv')\n",
    "data.head()\n"
   ]
  },
  {
   "cell_type": "code",
   "execution_count": 14,
   "metadata": {
    "collapsed": true
   },
   "outputs": [],
   "source": [
    "X = data.iloc[:, 1:].values\n",
    "index = X.std(axis=0) != 0\n",
    "X[:, index] = (X[:, index] - X[:, index].mean(axis=0)) / X[:, index].std(axis=0)\n",
    "X = X[:, index] \n"
   ]
  },
  {
   "cell_type": "code",
   "execution_count": 15,
   "metadata": {
    "collapsed": true
   },
   "outputs": [],
   "source": [
    "pred_x = Clustering(min_pts=2, eps=25).fit_predict(X)\n",
    "cluster_ = np.unique(pred_x)\n",
    "cluster = []\n",
    "for i in cluster_:\n",
    "    cluster.append(data.iloc[:, 0][pred_x == i])\n"
   ]
  },
  {
   "cell_type": "code",
   "execution_count": 16,
   "metadata": {},
   "outputs": [
    {
     "name": "stdout",
     "output_type": "stream",
     "text": [
      "0            Afghanistan\n",
      "1                Albania\n",
      "2                Algeria\n",
      "5                 Angola\n",
      "6    Antigua and Barbuda\n",
      "Name: Country Name, dtype: object\n",
      "(161L,)\n"
     ]
    }
   ],
   "source": [
    "print cluster[0].head()\n",
    "print cluster[0].shape"
   ]
  },
  {
   "cell_type": "markdown",
   "metadata": {},
   "source": [
    "DBSCAN отнес эти страны к шуму. Видимо их показатели сильно выделяются на общем фоне"
   ]
  },
  {
   "cell_type": "code",
   "execution_count": 17,
   "metadata": {},
   "outputs": [
    {
     "name": "stdout",
     "output_type": "stream",
     "text": [
      "3     American Samoa\n",
      "4            Andorra\n",
      "7         Arab World\n",
      "12           Austria\n",
      "17          Barbados\n",
      "Name: Country Name, dtype: object\n",
      "(90L,)\n"
     ]
    }
   ],
   "source": [
    "print cluster[1].head()\n",
    "print cluster[1].shape"
   ]
  },
  {
   "cell_type": "markdown",
   "metadata": {},
   "source": [
    "Страны \"среднего\" типа. Такое количество вызвано заполнением nan средним значение по столбцу"
   ]
  },
  {
   "cell_type": "code",
   "execution_count": 18,
   "metadata": {},
   "outputs": [
    {
     "name": "stdout",
     "output_type": "stream",
     "text": [
      "61                            East Asia & Pacific\n",
      "62     East Asia & Pacific (IDA & IBRD countries)\n",
      "128                     Late-demographic dividend\n",
      "Name: Country Name, dtype: object\n",
      "(3L,)\n"
     ]
    }
   ],
   "source": [
    "print cluster[2].head()\n",
    "print cluster[2].shape"
   ]
  },
  {
   "cell_type": "markdown",
   "metadata": {},
   "source": [
    "Восточная Азия"
   ]
  },
  {
   "cell_type": "code",
   "execution_count": 19,
   "metadata": {},
   "outputs": [
    {
     "name": "stdout",
     "output_type": "stream",
     "text": [
      "71                Euro area\n",
      "72    Europe & Central Asia\n",
      "75           European Union\n",
      "Name: Country Name, dtype: object\n",
      "(3L,)\n"
     ]
    }
   ],
   "source": [
    "print cluster[3].head()\n",
    "print cluster[3].shape"
   ]
  },
  {
   "cell_type": "markdown",
   "metadata": {},
   "source": [
    "Европейский регион"
   ]
  },
  {
   "cell_type": "code",
   "execution_count": 20,
   "metadata": {},
   "outputs": [
    {
     "name": "stdout",
     "output_type": "stream",
     "text": [
      "98                   High income\n",
      "181                 OECD members\n",
      "194    Post-demographic dividend\n",
      "Name: Country Name, dtype: object\n",
      "(3L,)\n"
     ]
    }
   ],
   "source": [
    "print cluster[4].head()\n",
    "print cluster[4].shape"
   ]
  },
  {
   "cell_type": "markdown",
   "metadata": {},
   "source": [
    "Страны с хорошой экономикой"
   ]
  },
  {
   "cell_type": "code",
   "execution_count": 21,
   "metadata": {},
   "outputs": [
    {
     "name": "stdout",
     "output_type": "stream",
     "text": [
      "105                                      IDA only\n",
      "228    Sub-Saharan Africa (excluding high income)\n",
      "Name: Country Name, dtype: object\n",
      "(2L,)\n"
     ]
    }
   ],
   "source": [
    "print cluster[5].head()\n",
    "print cluster[5].shape"
   ]
  },
  {
   "cell_type": "markdown",
   "metadata": {},
   "source": [
    "Страны со слабым развитием. Если поменять \"eps\" на 20 этот класс будет включать критерии плохо празвитых стран. "
   ]
  },
  {
   "cell_type": "code",
   "execution_count": 22,
   "metadata": {},
   "outputs": [
    {
     "name": "stdout",
     "output_type": "stream",
     "text": [
      "217                 South Asia\n",
      "218    South Asia (IDA & IBRD)\n",
      "Name: Country Name, dtype: object\n",
      "(2L,)\n"
     ]
    }
   ],
   "source": [
    "print cluster[6].head()\n",
    "print cluster[6].shape"
   ]
  },
  {
   "cell_type": "markdown",
   "metadata": {},
   "source": [
    "Северная Азия"
   ]
  },
  {
   "cell_type": "code",
   "execution_count": 23,
   "metadata": {},
   "outputs": [
    {
     "data": {
      "text/plain": [
       "(264L, 2L)"
      ]
     },
     "execution_count": 23,
     "metadata": {},
     "output_type": "execute_result"
    }
   ],
   "source": [
    "X_embedded = sm.TSNE(n_components=2).fit_transform(X)\n",
    "X_embedded.shape"
   ]
  },
  {
   "cell_type": "code",
   "execution_count": 24,
   "metadata": {},
   "outputs": [
    {
     "data": {
      "text/plain": [
       "<matplotlib.legend.Legend at 0x1ef67940>"
      ]
     },
     "execution_count": 24,
     "metadata": {},
     "output_type": "execute_result"
    },
    {
     "data": {
      "image/png": "[encoded data removed]",
      "text/plain": [
       "<matplotlib.figure.Figure at 0x1ef678d0>"
      ]
     },
     "metadata": {},
     "output_type": "display_data"
    }
   ],
   "source": [
    "for i in xrange(cluster_.shape[0]):\n",
    "    mask = pred_x == i\n",
    "    plt.scatter(X_embedded[mask, 0], X_embedded[mask, 1], label=i)\n",
    "plt.legend()"
   ]
  },
  {
   "cell_type": "markdown",
   "metadata": {},
   "source": [
    "Поздравляем, Вы завершили домашние задания по модулю \"Алгоритмы кластеризации\". Надеемся, что это было интересно."
   ]
  }
 ],
 "metadata": {
  "kernelspec": {
   "display_name": "Python 2",
   "language": "python",
   "name": "python2"
  },
  "language_info": {
   "codemirror_mode": {
    "name": "ipython",
    "version": 2
   },
   "file_extension": ".py",
   "mimetype": "text/x-python",
   "name": "python",
   "nbconvert_exporter": "python",
   "pygments_lexer": "ipython2",
   "version": "2.7.13"
  }
 },
 "nbformat": 4,
 "nbformat_minor": 1
}
